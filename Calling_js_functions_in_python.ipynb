{
  "nbformat": 4,
  "nbformat_minor": 0,
  "metadata": {
    "colab": {
      "name": "Calling_js_functions_in_python.ipynb",
      "provenance": [],
      "collapsed_sections": [],
      "authorship_tag": "ABX9TyND6Jd+mfL/a5+5eUOuS8sn",
      "include_colab_link": true
    },
    "kernelspec": {
      "name": "python3",
      "display_name": "Python 3"
    },
    "language_info": {
      "name": "python"
    },
    "widgets": {
      "application/vnd.jupyter.widget-state+json": {
        "50554516b99849089f6b4490442a4d65": {
          "model_module": "jupyter-leaflet",
          "model_name": "LeafletMapModel",
          "model_module_version": "^0.16.0",
          "state": {
            "_dom_classes": [],
            "_model_module": "jupyter-leaflet",
            "_model_module_version": "^0.16.0",
            "_model_name": "LeafletMapModel",
            "_view_count": null,
            "_view_module": "jupyter-leaflet",
            "_view_module_version": "^0.16.0",
            "_view_name": "LeafletMapView",
            "bottom": 25966,
            "bounce_at_zoom_limits": true,
            "box_zoom": true,
            "center": [
              36.30443738368522,
              139.42589104860377
            ],
            "close_popup_on_click": true,
            "controls": [
              "IPY_MODEL_d3d72d007b9b47f8a4e85245d4e5b638",
              "IPY_MODEL_3d451d9d4432426d9b9a8172bf87cba7",
              "IPY_MODEL_34a781b76853475a897e3eaf3fbf8f1d",
              "IPY_MODEL_ff4347d5fd0e40ae90a9691c4a3b0383",
              "IPY_MODEL_7eccce5573434feba660870be39bca75",
              "IPY_MODEL_588e958f446148a1861252ed55accad3",
              "IPY_MODEL_1563f101c14d4526ae3661a43a1ed07e",
              "IPY_MODEL_087b1101b44f4b6998ef5e35b67fc1c7"
            ],
            "crs": {
              "name": "EPSG3857",
              "custom": false
            },
            "default_style": "IPY_MODEL_81c5525143524dc1aa3374e93efabca2",
            "double_click_zoom": true,
            "dragging": true,
            "dragging_style": "IPY_MODEL_05d31a2a3641445b8145ea4765026789",
            "east": 142.83325195312503,
            "fullscreen": false,
            "inertia": true,
            "inertia_deceleration": 3000,
            "inertia_max_speed": 1500,
            "interpolation": "bilinear",
            "keyboard": true,
            "keyboard_pan_offset": 80,
            "keyboard_zoom_offset": 1,
            "layers": [
              "IPY_MODEL_12b0ec269f8e4476a6169c0d6abed97e",
              "IPY_MODEL_3ac1ab68b6984edd857a06ad0c7c3a12",
              "IPY_MODEL_3aeb307dca124825822846b7db510677"
            ],
            "layout": "IPY_MODEL_b1f55db5a4504aab81313dccfee8d067",
            "left": 57530,
            "max_zoom": 24,
            "min_zoom": 1,
            "modisdate": "2022-07-13",
            "north": 37.622933594900864,
            "options": [
              "bounce_at_zoom_limits",
              "box_zoom",
              "center",
              "close_popup_on_click",
              "double_click_zoom",
              "dragging",
              "fullscreen",
              "inertia",
              "inertia_deceleration",
              "inertia_max_speed",
              "interpolation",
              "keyboard",
              "keyboard_pan_offset",
              "keyboard_zoom_offset",
              "max_zoom",
              "min_zoom",
              "prefer_canvas",
              "scroll_wheel_zoom",
              "tap",
              "tap_tolerance",
              "touch_zoom",
              "world_copy_jump",
              "zoom",
              "zoom_animation_threshold",
              "zoom_delta",
              "zoom_snap",
              "zoom_start"
            ],
            "prefer_canvas": false,
            "right": 58770,
            "scroll_wheel_zoom": true,
            "south": 34.96699890670367,
            "style": "IPY_MODEL_c243edefec3b4cc4860889737b9f1e66",
            "tap": true,
            "tap_tolerance": 15,
            "top": 25366,
            "touch_zoom": true,
            "west": 136.02172851562503,
            "window_url": "https://u7hc8asrv3-496ff2e9c6d22116-0-colab.googleusercontent.com/outputframe.html?vrz=colab-20220712-060048-RC00_460423519",
            "world_copy_jump": false,
            "zoom": 8,
            "zoom_animation_threshold": 4,
            "zoom_delta": 1,
            "zoom_snap": 1,
            "zoom_start": 12
          }
        },
        "d3d72d007b9b47f8a4e85245d4e5b638": {
          "model_module": "jupyter-leaflet",
          "model_name": "LeafletWidgetControlModel",
          "model_module_version": "^0.16.0",
          "state": {
            "_model_module": "jupyter-leaflet",
            "_model_module_version": "^0.16.0",
            "_model_name": "LeafletWidgetControlModel",
            "_view_count": null,
            "_view_module": "jupyter-leaflet",
            "_view_module_version": "^0.16.0",
            "_view_name": "LeafletWidgetControlView",
            "max_height": null,
            "max_width": null,
            "min_height": null,
            "min_width": null,
            "options": [
              "position",
              "transparent_bg"
            ],
            "position": "topleft",
            "transparent_bg": false,
            "widget": "IPY_MODEL_8601862792b94631b6a730585d1ca6bf"
          }
        },
        "3d451d9d4432426d9b9a8172bf87cba7": {
          "model_module": "jupyter-leaflet",
          "model_name": "LeafletZoomControlModel",
          "model_module_version": "^0.16.0",
          "state": {
            "_model_module": "jupyter-leaflet",
            "_model_module_version": "^0.16.0",
            "_model_name": "LeafletZoomControlModel",
            "_view_count": null,
            "_view_module": "jupyter-leaflet",
            "_view_module_version": "^0.16.0",
            "_view_name": "LeafletZoomControlView",
            "options": [
              "position",
              "zoom_in_text",
              "zoom_in_title",
              "zoom_out_text",
              "zoom_out_title"
            ],
            "position": "topleft",
            "zoom_in_text": "+",
            "zoom_in_title": "Zoom in",
            "zoom_out_text": "-",
            "zoom_out_title": "Zoom out"
          }
        },
        "34a781b76853475a897e3eaf3fbf8f1d": {
          "model_module": "jupyter-leaflet",
          "model_name": "LeafletScaleControlModel",
          "model_module_version": "^0.16.0",
          "state": {
            "_model_module": "jupyter-leaflet",
            "_model_module_version": "^0.16.0",
            "_model_name": "LeafletScaleControlModel",
            "_view_count": null,
            "_view_module": "jupyter-leaflet",
            "_view_module_version": "^0.16.0",
            "_view_name": "LeafletScaleControlView",
            "imperial": true,
            "max_width": 100,
            "metric": true,
            "options": [
              "imperial",
              "max_width",
              "metric",
              "position",
              "update_when_idle"
            ],
            "position": "bottomleft",
            "update_when_idle": false
          }
        },
        "ff4347d5fd0e40ae90a9691c4a3b0383": {
          "model_module": "jupyter-leaflet",
          "model_name": "LeafletFullScreenControlModel",
          "model_module_version": "^0.16.0",
          "state": {
            "_model_module": "jupyter-leaflet",
            "_model_module_version": "^0.16.0",
            "_model_name": "LeafletFullScreenControlModel",
            "_view_count": null,
            "_view_module": "jupyter-leaflet",
            "_view_module_version": "^0.16.0",
            "_view_name": "LeafletFullScreenControlView",
            "options": [
              "position"
            ],
            "position": "topleft"
          }
        },
        "7eccce5573434feba660870be39bca75": {
          "model_module": "jupyter-leaflet",
          "model_name": "LeafletMeasureControlModel",
          "model_module_version": "^0.16.0",
          "state": {
            "_custom_units": {},
            "_model_module": "jupyter-leaflet",
            "_model_module_version": "^0.16.0",
            "_model_name": "LeafletMeasureControlModel",
            "_view_count": null,
            "_view_module": "jupyter-leaflet",
            "_view_module_version": "^0.16.0",
            "_view_name": "LeafletMeasureControlView",
            "active_color": "orange",
            "capture_z_index": 10000,
            "completed_color": "#C8F2BE",
            "options": [
              "active_color",
              "capture_z_index",
              "completed_color",
              "popup_options",
              "position",
              "primary_area_unit",
              "primary_length_unit",
              "secondary_area_unit",
              "secondary_length_unit"
            ],
            "popup_options": {
              "className": "leaflet-measure-resultpopup",
              "autoPanPadding": [
                10,
                10
              ]
            },
            "position": "bottomleft",
            "primary_area_unit": "acres",
            "primary_length_unit": "kilometers",
            "secondary_area_unit": null,
            "secondary_length_unit": null
          }
        },
        "588e958f446148a1861252ed55accad3": {
          "model_module": "jupyter-leaflet",
          "model_name": "LeafletAttributionControlModel",
          "model_module_version": "^0.16.0",
          "state": {
            "_model_module": "jupyter-leaflet",
            "_model_module_version": "^0.16.0",
            "_model_name": "LeafletAttributionControlModel",
            "_view_count": null,
            "_view_module": "jupyter-leaflet",
            "_view_module_version": "^0.16.0",
            "_view_name": "LeafletAttributionControlView",
            "options": [
              "position",
              "prefix"
            ],
            "position": "bottomright",
            "prefix": "ipyleaflet"
          }
        },
        "1563f101c14d4526ae3661a43a1ed07e": {
          "model_module": "jupyter-leaflet",
          "model_name": "LeafletDrawControlModel",
          "model_module_version": "^0.16.0",
          "state": {
            "_model_module": "jupyter-leaflet",
            "_model_module_version": "^0.16.0",
            "_model_name": "LeafletDrawControlModel",
            "_view_count": null,
            "_view_module": "jupyter-leaflet",
            "_view_module_version": "^0.16.0",
            "_view_name": "LeafletDrawControlView",
            "circle": {
              "shapeOptions": {
                "color": "#3388ff"
              }
            },
            "circlemarker": {},
            "data": [],
            "edit": true,
            "marker": {
              "shapeOptions": {
                "color": "#3388ff"
              }
            },
            "options": [
              "position"
            ],
            "polygon": {
              "shapeOptions": {}
            },
            "polyline": {
              "shapeOptions": {}
            },
            "position": "topleft",
            "rectangle": {
              "shapeOptions": {
                "color": "#3388ff"
              }
            },
            "remove": true
          }
        },
        "087b1101b44f4b6998ef5e35b67fc1c7": {
          "model_module": "jupyter-leaflet",
          "model_name": "LeafletWidgetControlModel",
          "model_module_version": "^0.16.0",
          "state": {
            "_model_module": "jupyter-leaflet",
            "_model_module_version": "^0.16.0",
            "_model_name": "LeafletWidgetControlModel",
            "_view_count": null,
            "_view_module": "jupyter-leaflet",
            "_view_module_version": "^0.16.0",
            "_view_name": "LeafletWidgetControlView",
            "max_height": null,
            "max_width": null,
            "min_height": null,
            "min_width": null,
            "options": [
              "position",
              "transparent_bg"
            ],
            "position": "topright",
            "transparent_bg": false,
            "widget": "IPY_MODEL_d1e64c62ab964252b48a7a54ca73a282"
          }
        },
        "81c5525143524dc1aa3374e93efabca2": {
          "model_module": "jupyter-leaflet",
          "model_name": "LeafletMapStyleModel",
          "model_module_version": "^0.16.0",
          "state": {
            "_model_module": "jupyter-leaflet",
            "_model_module_version": "^0.16.0",
            "_model_name": "LeafletMapStyleModel",
            "_view_count": null,
            "_view_module": "@jupyter-widgets/base",
            "_view_module_version": "1.2.0",
            "_view_name": "StyleView",
            "cursor": "grab"
          }
        },
        "05d31a2a3641445b8145ea4765026789": {
          "model_module": "jupyter-leaflet",
          "model_name": "LeafletMapStyleModel",
          "model_module_version": "^0.16.0",
          "state": {
            "_model_module": "jupyter-leaflet",
            "_model_module_version": "^0.16.0",
            "_model_name": "LeafletMapStyleModel",
            "_view_count": null,
            "_view_module": "@jupyter-widgets/base",
            "_view_module_version": "1.2.0",
            "_view_name": "StyleView",
            "cursor": "move"
          }
        },
        "12b0ec269f8e4476a6169c0d6abed97e": {
          "model_module": "jupyter-leaflet",
          "model_name": "LeafletTileLayerModel",
          "model_module_version": "^0.16.0",
          "state": {
            "_model_module": "jupyter-leaflet",
            "_model_module_version": "^0.16.0",
            "_model_name": "LeafletTileLayerModel",
            "_view_count": null,
            "_view_module": "jupyter-leaflet",
            "_view_module_version": "^0.16.0",
            "_view_name": "LeafletTileLayerView",
            "attribution": "&copy; <a href=\"https://www.openstreetmap.org/copyright\">OpenStreetMap</a> contributors",
            "base": true,
            "bottom": true,
            "bounds": null,
            "detect_retina": false,
            "loading": false,
            "max_native_zoom": 18,
            "max_zoom": 19,
            "min_native_zoom": 0,
            "min_zoom": 1,
            "name": "OpenStreetMap.Mapnik",
            "no_wrap": false,
            "opacity": 1,
            "options": [
              "attribution",
              "bounds",
              "detect_retina",
              "max_native_zoom",
              "max_zoom",
              "min_native_zoom",
              "min_zoom",
              "no_wrap",
              "tile_size",
              "tms"
            ],
            "popup": null,
            "popup_max_height": null,
            "popup_max_width": 300,
            "popup_min_width": 50,
            "show_loading": false,
            "tile_size": 256,
            "tms": false,
            "url": "https://a.tile.openstreetmap.org/{z}/{x}/{y}.png",
            "visible": true
          }
        },
        "3ac1ab68b6984edd857a06ad0c7c3a12": {
          "model_module": "jupyter-leaflet",
          "model_name": "LeafletTileLayerModel",
          "model_module_version": "^0.16.0",
          "state": {
            "_model_module": "jupyter-leaflet",
            "_model_module_version": "^0.16.0",
            "_model_name": "LeafletTileLayerModel",
            "_view_count": null,
            "_view_module": "jupyter-leaflet",
            "_view_module_version": "^0.16.0",
            "_view_name": "LeafletTileLayerView",
            "attribution": "Google",
            "base": false,
            "bottom": true,
            "bounds": null,
            "detect_retina": false,
            "loading": false,
            "max_native_zoom": 18,
            "max_zoom": 22,
            "min_native_zoom": 0,
            "min_zoom": 0,
            "name": "Google Maps",
            "no_wrap": false,
            "opacity": 1,
            "options": [
              "attribution",
              "bounds",
              "detect_retina",
              "max_native_zoom",
              "max_zoom",
              "min_native_zoom",
              "min_zoom",
              "no_wrap",
              "tile_size",
              "tms"
            ],
            "popup": null,
            "popup_max_height": null,
            "popup_max_width": 300,
            "popup_min_width": 50,
            "show_loading": false,
            "tile_size": 256,
            "tms": false,
            "url": "https://mt1.google.com/vt/lyrs=m&x={x}&y={y}&z={z}",
            "visible": true
          }
        },
        "3aeb307dca124825822846b7db510677": {
          "model_module": "jupyter-leaflet",
          "model_name": "LeafletTileLayerModel",
          "model_module_version": "^0.16.0",
          "state": {
            "_model_module": "jupyter-leaflet",
            "_model_module_version": "^0.16.0",
            "_model_name": "LeafletTileLayerModel",
            "_view_count": null,
            "_view_module": "jupyter-leaflet",
            "_view_module_version": "^0.16.0",
            "_view_name": "LeafletTileLayerView",
            "attribution": "Google Earth Engine",
            "base": false,
            "bottom": true,
            "bounds": null,
            "detect_retina": false,
            "loading": false,
            "max_native_zoom": 18,
            "max_zoom": 24,
            "min_native_zoom": 0,
            "min_zoom": 0,
            "name": "Rainfall_LST",
            "no_wrap": false,
            "opacity": 1,
            "options": [
              "attribution",
              "bounds",
              "detect_retina",
              "max_native_zoom",
              "max_zoom",
              "min_native_zoom",
              "min_zoom",
              "no_wrap",
              "tile_size",
              "tms"
            ],
            "popup": null,
            "popup_max_height": null,
            "popup_max_width": 300,
            "popup_min_width": 50,
            "show_loading": false,
            "tile_size": 256,
            "tms": false,
            "url": "https://earthengine.googleapis.com/v1alpha/projects/earthengine-legacy/maps/0006b628f1dca44775528561ab310814-2f0639d7446bb8db095a25ee7b1ba1cc/tiles/{z}/{x}/{y}",
            "visible": true
          }
        },
        "b1f55db5a4504aab81313dccfee8d067": {
          "model_module": "@jupyter-widgets/base",
          "model_name": "LayoutModel",
          "model_module_version": "1.2.0",
          "state": {
            "_model_module": "@jupyter-widgets/base",
            "_model_module_version": "1.2.0",
            "_model_name": "LayoutModel",
            "_view_count": null,
            "_view_module": "@jupyter-widgets/base",
            "_view_module_version": "1.2.0",
            "_view_name": "LayoutView",
            "align_content": null,
            "align_items": null,
            "align_self": null,
            "border": null,
            "bottom": null,
            "display": null,
            "flex": null,
            "flex_flow": null,
            "grid_area": null,
            "grid_auto_columns": null,
            "grid_auto_flow": null,
            "grid_auto_rows": null,
            "grid_column": null,
            "grid_gap": null,
            "grid_row": null,
            "grid_template_areas": null,
            "grid_template_columns": null,
            "grid_template_rows": null,
            "height": "600px",
            "justify_content": null,
            "justify_items": null,
            "left": null,
            "margin": null,
            "max_height": null,
            "max_width": null,
            "min_height": null,
            "min_width": null,
            "object_fit": null,
            "object_position": null,
            "order": null,
            "overflow": null,
            "overflow_x": null,
            "overflow_y": null,
            "padding": null,
            "right": null,
            "top": null,
            "visibility": null,
            "width": null
          }
        },
        "c243edefec3b4cc4860889737b9f1e66": {
          "model_module": "jupyter-leaflet",
          "model_name": "LeafletMapStyleModel",
          "model_module_version": "^0.16.0",
          "state": {
            "_model_module": "jupyter-leaflet",
            "_model_module_version": "^0.16.0",
            "_model_name": "LeafletMapStyleModel",
            "_view_count": null,
            "_view_module": "@jupyter-widgets/base",
            "_view_module_version": "1.2.0",
            "_view_name": "StyleView",
            "cursor": "grab"
          }
        },
        "8601862792b94631b6a730585d1ca6bf": {
          "model_module": "@jupyter-widgets/controls",
          "model_name": "HBoxModel",
          "model_module_version": "1.5.0",
          "state": {
            "_dom_classes": [],
            "_model_module": "@jupyter-widgets/controls",
            "_model_module_version": "1.5.0",
            "_model_name": "HBoxModel",
            "_view_count": null,
            "_view_module": "@jupyter-widgets/controls",
            "_view_module_version": "1.5.0",
            "_view_name": "HBoxView",
            "box_style": "",
            "children": [
              "IPY_MODEL_61fde3a42ac84039b330edb80657e311"
            ],
            "layout": "IPY_MODEL_1f11c9ffebc74aeb9cf0f6c6de062c88"
          }
        },
        "d1e64c62ab964252b48a7a54ca73a282": {
          "model_module": "@jupyter-widgets/controls",
          "model_name": "VBoxModel",
          "model_module_version": "1.5.0",
          "state": {
            "_dom_classes": [],
            "_model_module": "@jupyter-widgets/controls",
            "_model_module_version": "1.5.0",
            "_model_name": "VBoxModel",
            "_view_count": null,
            "_view_module": "@jupyter-widgets/controls",
            "_view_module_version": "1.5.0",
            "_view_name": "VBoxView",
            "box_style": "",
            "children": [
              "IPY_MODEL_04a70567302d4746bbffa5f7f37002ee"
            ],
            "layout": "IPY_MODEL_d09ad1197fab4e7692d8c0ac0e92eb6a"
          }
        },
        "61fde3a42ac84039b330edb80657e311": {
          "model_module": "@jupyter-widgets/controls",
          "model_name": "ToggleButtonModel",
          "model_module_version": "1.5.0",
          "state": {
            "_dom_classes": [],
            "_model_module": "@jupyter-widgets/controls",
            "_model_module_version": "1.5.0",
            "_model_name": "ToggleButtonModel",
            "_view_count": null,
            "_view_module": "@jupyter-widgets/controls",
            "_view_module_version": "1.5.0",
            "_view_name": "ToggleButtonView",
            "button_style": "",
            "description": "",
            "description_tooltip": null,
            "disabled": false,
            "icon": "globe",
            "layout": "IPY_MODEL_394bd8f0d97d4eeaa25cd391149c138e",
            "style": "IPY_MODEL_ee3e80901fa24a83b19ee2c675f6be57",
            "tooltip": "Search location/data",
            "value": false
          }
        },
        "1f11c9ffebc74aeb9cf0f6c6de062c88": {
          "model_module": "@jupyter-widgets/base",
          "model_name": "LayoutModel",
          "model_module_version": "1.2.0",
          "state": {
            "_model_module": "@jupyter-widgets/base",
            "_model_module_version": "1.2.0",
            "_model_name": "LayoutModel",
            "_view_count": null,
            "_view_module": "@jupyter-widgets/base",
            "_view_module_version": "1.2.0",
            "_view_name": "LayoutView",
            "align_content": null,
            "align_items": null,
            "align_self": null,
            "border": null,
            "bottom": null,
            "display": null,
            "flex": null,
            "flex_flow": null,
            "grid_area": null,
            "grid_auto_columns": null,
            "grid_auto_flow": null,
            "grid_auto_rows": null,
            "grid_column": null,
            "grid_gap": null,
            "grid_row": null,
            "grid_template_areas": null,
            "grid_template_columns": null,
            "grid_template_rows": null,
            "height": null,
            "justify_content": null,
            "justify_items": null,
            "left": null,
            "margin": null,
            "max_height": null,
            "max_width": null,
            "min_height": null,
            "min_width": null,
            "object_fit": null,
            "object_position": null,
            "order": null,
            "overflow": null,
            "overflow_x": null,
            "overflow_y": null,
            "padding": null,
            "right": null,
            "top": null,
            "visibility": null,
            "width": null
          }
        },
        "04a70567302d4746bbffa5f7f37002ee": {
          "model_module": "@jupyter-widgets/controls",
          "model_name": "ToggleButtonModel",
          "model_module_version": "1.5.0",
          "state": {
            "_dom_classes": [],
            "_model_module": "@jupyter-widgets/controls",
            "_model_module_version": "1.5.0",
            "_model_name": "ToggleButtonModel",
            "_view_count": null,
            "_view_module": "@jupyter-widgets/controls",
            "_view_module_version": "1.5.0",
            "_view_name": "ToggleButtonView",
            "button_style": "",
            "description": "",
            "description_tooltip": null,
            "disabled": false,
            "icon": "wrench",
            "layout": "IPY_MODEL_91ddb7c400bb40f09aa5e7d9a9c5b0d4",
            "style": "IPY_MODEL_6c9a4247d2a2453fa4a78352e202ac21",
            "tooltip": "Toolbar",
            "value": false
          }
        },
        "d09ad1197fab4e7692d8c0ac0e92eb6a": {
          "model_module": "@jupyter-widgets/base",
          "model_name": "LayoutModel",
          "model_module_version": "1.2.0",
          "state": {
            "_model_module": "@jupyter-widgets/base",
            "_model_module_version": "1.2.0",
            "_model_name": "LayoutModel",
            "_view_count": null,
            "_view_module": "@jupyter-widgets/base",
            "_view_module_version": "1.2.0",
            "_view_name": "LayoutView",
            "align_content": null,
            "align_items": null,
            "align_self": null,
            "border": null,
            "bottom": null,
            "display": null,
            "flex": null,
            "flex_flow": null,
            "grid_area": null,
            "grid_auto_columns": null,
            "grid_auto_flow": null,
            "grid_auto_rows": null,
            "grid_column": null,
            "grid_gap": null,
            "grid_row": null,
            "grid_template_areas": null,
            "grid_template_columns": null,
            "grid_template_rows": null,
            "height": null,
            "justify_content": null,
            "justify_items": null,
            "left": null,
            "margin": null,
            "max_height": null,
            "max_width": null,
            "min_height": null,
            "min_width": null,
            "object_fit": null,
            "object_position": null,
            "order": null,
            "overflow": null,
            "overflow_x": null,
            "overflow_y": null,
            "padding": null,
            "right": null,
            "top": null,
            "visibility": null,
            "width": null
          }
        },
        "394bd8f0d97d4eeaa25cd391149c138e": {
          "model_module": "@jupyter-widgets/base",
          "model_name": "LayoutModel",
          "model_module_version": "1.2.0",
          "state": {
            "_model_module": "@jupyter-widgets/base",
            "_model_module_version": "1.2.0",
            "_model_name": "LayoutModel",
            "_view_count": null,
            "_view_module": "@jupyter-widgets/base",
            "_view_module_version": "1.2.0",
            "_view_name": "LayoutView",
            "align_content": null,
            "align_items": null,
            "align_self": null,
            "border": null,
            "bottom": null,
            "display": null,
            "flex": null,
            "flex_flow": null,
            "grid_area": null,
            "grid_auto_columns": null,
            "grid_auto_flow": null,
            "grid_auto_rows": null,
            "grid_column": null,
            "grid_gap": null,
            "grid_row": null,
            "grid_template_areas": null,
            "grid_template_columns": null,
            "grid_template_rows": null,
            "height": "28px",
            "justify_content": null,
            "justify_items": null,
            "left": null,
            "margin": null,
            "max_height": null,
            "max_width": null,
            "min_height": null,
            "min_width": null,
            "object_fit": null,
            "object_position": null,
            "order": null,
            "overflow": null,
            "overflow_x": null,
            "overflow_y": null,
            "padding": "0px 0px 0px 4px",
            "right": null,
            "top": null,
            "visibility": null,
            "width": "28px"
          }
        },
        "ee3e80901fa24a83b19ee2c675f6be57": {
          "model_module": "@jupyter-widgets/controls",
          "model_name": "DescriptionStyleModel",
          "model_module_version": "1.5.0",
          "state": {
            "_model_module": "@jupyter-widgets/controls",
            "_model_module_version": "1.5.0",
            "_model_name": "DescriptionStyleModel",
            "_view_count": null,
            "_view_module": "@jupyter-widgets/base",
            "_view_module_version": "1.2.0",
            "_view_name": "StyleView",
            "description_width": ""
          }
        },
        "91ddb7c400bb40f09aa5e7d9a9c5b0d4": {
          "model_module": "@jupyter-widgets/base",
          "model_name": "LayoutModel",
          "model_module_version": "1.2.0",
          "state": {
            "_model_module": "@jupyter-widgets/base",
            "_model_module_version": "1.2.0",
            "_model_name": "LayoutModel",
            "_view_count": null,
            "_view_module": "@jupyter-widgets/base",
            "_view_module_version": "1.2.0",
            "_view_name": "LayoutView",
            "align_content": null,
            "align_items": null,
            "align_self": null,
            "border": null,
            "bottom": null,
            "display": null,
            "flex": null,
            "flex_flow": null,
            "grid_area": null,
            "grid_auto_columns": null,
            "grid_auto_flow": null,
            "grid_auto_rows": null,
            "grid_column": null,
            "grid_gap": null,
            "grid_row": null,
            "grid_template_areas": null,
            "grid_template_columns": null,
            "grid_template_rows": null,
            "height": "28px",
            "justify_content": null,
            "justify_items": null,
            "left": null,
            "margin": null,
            "max_height": null,
            "max_width": null,
            "min_height": null,
            "min_width": null,
            "object_fit": null,
            "object_position": null,
            "order": null,
            "overflow": null,
            "overflow_x": null,
            "overflow_y": null,
            "padding": "0px 0px 0px 4px",
            "right": null,
            "top": null,
            "visibility": null,
            "width": "28px"
          }
        },
        "6c9a4247d2a2453fa4a78352e202ac21": {
          "model_module": "@jupyter-widgets/controls",
          "model_name": "DescriptionStyleModel",
          "model_module_version": "1.5.0",
          "state": {
            "_model_module": "@jupyter-widgets/controls",
            "_model_module_version": "1.5.0",
            "_model_name": "DescriptionStyleModel",
            "_view_count": null,
            "_view_module": "@jupyter-widgets/base",
            "_view_module_version": "1.2.0",
            "_view_name": "StyleView",
            "description_width": ""
          }
        }
      }
    }
  },
  "cells": [
    {
      "cell_type": "markdown",
      "metadata": {
        "id": "view-in-github",
        "colab_type": "text"
      },
      "source": [
        "<a href=\"https://colab.research.google.com/github/JuanTenchijin/EE_library_js/blob/main/Calling_js_functions_in_python.ipynb\" target=\"_parent\"><img src=\"https://colab.research.google.com/assets/colab-badge.svg\" alt=\"Open In Colab\"/></a>"
      ]
    },
    {
      "cell_type": "code",
      "execution_count": null,
      "metadata": {
        "id": "Dr215SCsEmPE"
      },
      "outputs": [],
      "source": [
        "!pip install geemap\n"
      ]
    },
    {
      "cell_type": "code",
      "source": [
        "!pip install oeel \n",
        "from oeel import oeel\n"
      ],
      "metadata": {
        "id": "SCVGpgcoE_vI"
      },
      "execution_count": null,
      "outputs": []
    },
    {
      "cell_type": "code",
      "source": [
        "import ee\n",
        "import geemap"
      ],
      "metadata": {
        "id": "UD-2dpYMFEi2"
      },
      "execution_count": 4,
      "outputs": []
    },
    {
      "cell_type": "code",
      "source": [
        "geemap.ee_initialize()"
      ],
      "metadata": {
        "id": "5YbUxSM_EpX_"
      },
      "execution_count": null,
      "outputs": []
    },
    {
      "cell_type": "markdown",
      "source": [
        "# URL of the GitHub repo where the .js library is stored"
      ],
      "metadata": {
        "id": "kfNMj4rwQuLH"
      }
    },
    {
      "cell_type": "code",
      "source": [
        "url = 'https://github.com/JuanTenchijin/EE_library_js/blob/main/Library/EE_functions.js'"
      ],
      "metadata": {
        "id": "4s759TO7Fy4u"
      },
      "execution_count": 16,
      "outputs": []
    },
    {
      "cell_type": "markdown",
      "source": [
        "Function to call the library"
      ],
      "metadata": {
        "id": "qwhrLJKLQ0KX"
      }
    },
    {
      "cell_type": "code",
      "source": [
        "lib = geemap.requireJS(url)"
      ],
      "metadata": {
        "id": "cAj-QUwWFs02"
      },
      "execution_count": 17,
      "outputs": []
    },
    {
      "cell_type": "markdown",
      "source": [
        "# See availability of functionalities within the .js script"
      ],
      "metadata": {
        "id": "AqB7aBwVQf9P"
      }
    },
    {
      "cell_type": "code",
      "source": [
        "lib.availability"
      ],
      "metadata": {
        "colab": {
          "base_uri": "https://localhost:8080/"
        },
        "id": "O5pW4ldiHCVL",
        "outputId": "2c0225aa-0992-4d7f-cb6c-87c57dea4c2d"
      },
      "execution_count": 18,
      "outputs": [
        {
          "output_type": "execute_result",
          "data": {
            "text/plain": [
              "{'CONSTANTS': 'object',\n",
              " 'NDVI': 'function',\n",
              " 'RainfallAndSurfaceTemperature': 'function'}"
            ]
          },
          "metadata": {},
          "execution_count": 18
        }
      ]
    },
    {
      "cell_type": "markdown",
      "source": [
        "# Define the region, the variables and call the function!"
      ],
      "metadata": {
        "id": "J6k9qLQwQmUg"
      }
    },
    {
      "cell_type": "code",
      "source": [
        "region = ee.Geometry.Polygon([\n",
        "                              [137.43736565797883,34.89323933252523],\n",
        "                               [141.41441643922883,34.89323933252523],\n",
        "                              [141.41441643922883,37.699564448771945],\n",
        "                              [137.43736565797883,37.699564448771945],\n",
        "                              [137.43736565797883,34.89323933252523]\n",
        "])\n",
        "\n",
        "#Variables\n",
        "\n",
        "start = \"2020-01-01\"\n",
        "\n",
        "end = \"2020-09-01\"\n",
        "\n",
        "region = region\n",
        "\n",
        "minPrecip = 5\n",
        "\n",
        "maxPrecip = 50\n",
        "\n",
        "minTemp = 10\n",
        "\n",
        "maxTemp = 40\n",
        "\n",
        "# Function coming from a .js library! (Documentation: https://geemap.org/notebooks/120_javascript/)\n",
        "\n",
        "Rainfall_LST = lib.RainfallAndSurfaceTemperature(start, end, region, minPrecip, maxPrecip, minTemp, maxTemp)"
      ],
      "metadata": {
        "id": "W7JLkbe_F2iZ"
      },
      "execution_count": 35,
      "outputs": []
    },
    {
      "cell_type": "markdown",
      "source": [
        "# Add Data into the Map"
      ],
      "metadata": {
        "id": "L76e2NiyQafn"
      }
    },
    {
      "cell_type": "code",
      "source": [
        "vis_params = {\n",
        "    'min': 0,\n",
        "    'max': 10,\n",
        "    'palette': ['blue', 'green', 'yellow', 'orange', 'red'],\n",
        "}"
      ],
      "metadata": {
        "id": "WRIfVm2iOjnw"
      },
      "execution_count": 36,
      "outputs": []
    },
    {
      "cell_type": "code",
      "source": [
        "Map = geemap.Map()\n",
        "Map.addLayer(Rainfall_LST.clip(region), vis_params, 'Rainfall_LST')\n",
        "\n",
        "Map.centerObject(region, 8)\n",
        "\n",
        "Map\n",
        " "
      ],
      "metadata": {
        "colab": {
          "base_uri": "https://localhost:8080/",
          "height": 621,
          "referenced_widgets": [
            "50554516b99849089f6b4490442a4d65",
            "d3d72d007b9b47f8a4e85245d4e5b638",
            "3d451d9d4432426d9b9a8172bf87cba7",
            "34a781b76853475a897e3eaf3fbf8f1d",
            "ff4347d5fd0e40ae90a9691c4a3b0383",
            "7eccce5573434feba660870be39bca75",
            "588e958f446148a1861252ed55accad3",
            "1563f101c14d4526ae3661a43a1ed07e",
            "087b1101b44f4b6998ef5e35b67fc1c7",
            "81c5525143524dc1aa3374e93efabca2",
            "05d31a2a3641445b8145ea4765026789",
            "12b0ec269f8e4476a6169c0d6abed97e",
            "3ac1ab68b6984edd857a06ad0c7c3a12",
            "3aeb307dca124825822846b7db510677",
            "b1f55db5a4504aab81313dccfee8d067",
            "c243edefec3b4cc4860889737b9f1e66",
            "8601862792b94631b6a730585d1ca6bf",
            "d1e64c62ab964252b48a7a54ca73a282",
            "61fde3a42ac84039b330edb80657e311",
            "1f11c9ffebc74aeb9cf0f6c6de062c88",
            "04a70567302d4746bbffa5f7f37002ee",
            "d09ad1197fab4e7692d8c0ac0e92eb6a",
            "394bd8f0d97d4eeaa25cd391149c138e",
            "ee3e80901fa24a83b19ee2c675f6be57",
            "91ddb7c400bb40f09aa5e7d9a9c5b0d4",
            "6c9a4247d2a2453fa4a78352e202ac21"
          ]
        },
        "id": "0FByc1yXN0En",
        "outputId": "1be6d479-276f-4985-e954-47b2b794a13c"
      },
      "execution_count": 34,
      "outputs": [
        {
          "output_type": "display_data",
          "data": {
            "text/plain": [
              "Map(center=[36.30443738368522, 139.42589104860377], controls=(WidgetControl(options=['position', 'transparent_…"
            ],
            "application/vnd.jupyter.widget-view+json": {
              "version_major": 2,
              "version_minor": 0,
              "model_id": "50554516b99849089f6b4490442a4d65"
            }
          },
          "metadata": {
            "application/vnd.jupyter.widget-view+json": {
              "colab": {
                "custom_widget_manager": {
                  "url": "https://ssl.gstatic.com/colaboratory-static/widgets/colab-cdn-widget-manager/d2e234f7cc04bf79/manager.min.js"
                }
              }
            }
          }
        }
      ]
    }
  ]
}